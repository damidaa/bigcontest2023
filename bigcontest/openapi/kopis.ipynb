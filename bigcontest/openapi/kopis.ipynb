{
 "cells": [
  {
   "cell_type": "code",
   "execution_count": 2,
   "metadata": {},
   "outputs": [],
   "source": [
    "import requests\n",
    "from bs4 import BeautifulSoup"
   ]
  },
  {
   "cell_type": "code",
   "execution_count": 8,
   "metadata": {},
   "outputs": [
    {
     "data": {
      "text/plain": [
       "<?xml version=\"1.0\" encoding=\"UTF-8\"?>\n",
       "<dbs>\n",
       "<db>\n",
       "<mt20id>PF163945</mt20id>\n",
       "<prfnm>리미트</prfnm>\n",
       "<prfpdfrom>2018.04.25</prfpdfrom>\n",
       "<prfpdto>2023.08.31</prfpdto>\n",
       "<fcltynm>JTN 아트홀(구. 대학로예술마당)</fcltynm>\n",
       "<poster>http://www.kopis.or.kr/upload/pfmPoster/PF_PF163945_200507_103926.jpg</poster>\n",
       "<genrenm>연극</genrenm>\n",
       "<prfstate>공연중</prfstate>\n",
       "<openrun>Y</openrun>\n",
       "</db>\n",
       "<db>\n",
       "<mt20id>PF144565</mt20id>\n",
       "<prfnm>아기돼지삼형제: 늑대숲 또옹돼지 원정대</prfnm>\n",
       "<prfpdfrom>2018.04.07</prfpdfrom>\n",
       "<prfpdto>2023.09.30</prfpdto>\n",
       "<fcltynm>서연아트홀(구. 인아소극장)</fcltynm>\n",
       "<poster>http://www.kopis.or.kr/upload/pfmPoster/PF_PF144565_220811_114818.jpg</poster>\n",
       "<genrenm>뮤지컬</genrenm>\n",
       "<prfstate>공연중</prfstate>\n",
       "<openrun>Y</openrun>\n",
       "</db>\n",
       "<db>\n",
       "<mt20id>PF142007</mt20id>\n",
       "<prfnm>사춘기메들리</prfnm>\n",
       "<prfpdfrom>2018.03.10</prfpdfrom>\n",
       "<prfpdto>2023.08.27</prfpdto>\n",
       "<fcltynm>아티스탄홀</fcltynm>\n",
       "<poster>http://www.kopis.or.kr/upload/pfmPoster/PF_PF142007_190520_135852.jpg</poster>\n",
       "<genrenm>연극</genrenm>\n",
       "<prfstate>공연중</prfstate>\n",
       "<openrun>Y</openrun>\n",
       "</db>\n",
       "<db>\n",
       "<mt20id>PF138268</mt20id>\n",
       "<prfnm>시간을 파는 상점</prfnm>\n",
       "<prfpdfrom>2017.07.01</prfpdfrom>\n",
       "<prfpdto>2023.10.29</prfpdto>\n",
       "<fcltynm>파랑씨어터 (구. 도향아트홀, 뮤디스홀)</fcltynm>\n",
       "<poster>http://www.kopis.or.kr/upload/pfmPoster/PF_PF138268_200102_102145.gif</poster>\n",
       "<genrenm>연극</genrenm>\n",
       "<prfstate>공연중</prfstate>\n",
       "<openrun>Y</openrun>\n",
       "</db>\n",
       "<db>\n",
       "<mt20id>PF134308</mt20id>\n",
       "<prfnm>조각: 사라진 기억</prfnm>\n",
       "<prfpdfrom>2016.11.20</prfpdfrom>\n",
       "<prfpdto>2023.09.30</prfpdto>\n",
       "<fcltynm>댕로홀</fcltynm>\n",
       "<poster>http://www.kopis.or.kr/upload/pfmPoster/PF_PF134308_200901_132842.gif</poster>\n",
       "<genrenm>연극</genrenm>\n",
       "<prfstate>공연중</prfstate>\n",
       "<openrun>Y</openrun>\n",
       "</db>\n",
       "</dbs>"
      ]
     },
     "execution_count": 8,
     "metadata": {},
     "output_type": "execute_result"
    }
   ],
   "source": [
    "import pandas as pd\n",
    "\n",
    "API_Key = \"52f3c54e6d0d4dd7ae5c910e79b61efb\"\n",
    "URL = \"http://www.kopis.or.kr/openApi/restful/pblprfr?service={API}&stdate=20180601&eddate=20180630&cpage=1&rows=5&prfstate=03&signgucode=11&signgucodesub=1111&kidstate=N\".format(API= API_Key)\n",
    "\n",
    "# API로 데이터 불러오기\n",
    "rq = requests.get(URL)\n",
    "soup = BeautifulSoup(rq.text, \"html.parser\")\n",
    "\n",
    "soup"
   ]
  },
  {
   "cell_type": "code",
   "execution_count": null,
   "metadata": {},
   "outputs": [],
   "source": []
  }
 ],
 "metadata": {
  "kernelspec": {
   "display_name": "Python 3",
   "language": "python",
   "name": "python3"
  },
  "language_info": {
   "codemirror_mode": {
    "name": "ipython",
    "version": 3
   },
   "file_extension": ".py",
   "mimetype": "text/x-python",
   "name": "python",
   "nbconvert_exporter": "python",
   "pygments_lexer": "ipython3",
   "version": "3.9.2"
  },
  "orig_nbformat": 4
 },
 "nbformat": 4,
 "nbformat_minor": 2
}
